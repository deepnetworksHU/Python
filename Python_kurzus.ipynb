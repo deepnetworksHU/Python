{
  "nbformat": 4,
  "nbformat_minor": 0,
  "metadata": {
    "colab": {
      "name": "Python_kurzus.ipynb",
      "provenance": [],
      "collapsed_sections": [],
      "toc_visible": true
    },
    "kernelspec": {
      "name": "python3",
      "display_name": "Python 3"
    }
  },
  "cells": [
    {
      "cell_type": "markdown",
      "metadata": {
        "id": "ylGxrsnFU4Xf"
      },
      "source": [
        "Utoljára Frissítve: **2020.09.18**\n",
        "\n",
        "\n",
        "---\n",
        "\n",
        "\n",
        "Litkei Péter"
      ]
    },
    {
      "cell_type": "markdown",
      "metadata": {
        "id": "rdj-NoeH9-Im"
      },
      "source": [
        "A Python egy interpretált nyelv, amit C-ben írtak. Hivatalosan ezért ez a neve a Python-parancsértelmezőnek: CPython. (Egyébként léteznek más interpreterek is, de azok ebben a kurzusban nem szerepelnek.)\n",
        "\n",
        "A Python-kód először bytecode-ra fordul, amit majd a C-ben írt interpreter értelmez és futtat. Az értelmező felülről lefelé olvassa a kódot, a sorok sorrendjére nagyon oda kell figyelni.\n",
        "\n",
        "A Pythonban minden objektum, még az is, ami nem 🤓 azaz minden típus egy osztály, beleértve a más nyelvekben \"egyszerű típusnak\" nevezetteket is, mint pl. int, long és társai. Azaz pl. az int típus is egy osztály, és minden egész szám egy példánya az int osztálynak. Szerencsére ennek ellenére nem kell mindent osztályban írnunk - mint ahogy pl. Javaban vagy C#-ban. (a main nevű statikus osztály meghívása helyett, konvenció szerint a program belépési pontja az if __name__ == __main__: címkénél történik)\n",
        "\n",
        "Ebben a nyelvben kizárólag dinamikus típusok vannak, vagyis a típusuk fordítási időben dől el, emiatt nem is kell a változóknak megmondani, hogy milyen tipusúak, lesz ami lesz alapon majd valami lesz - hasonlóan, mint a javascriptben.\n",
        "\n",
        "A Pythonban az összes osztály public, és csak konvenció van arrra, hogy valami \"non-public\": ha a neve \"_\" karakterrel kezdődik, akkor az nem publikus (technikailag akkor is az). Van többszörös öröklés, és attribútomok is, de ezek már a következő tanfolyamban lesznek.\n",
        "\n",
        "Ami még furcsa lehet a más programozási nyelvben jártasaknak, az az, hogy a Pythonban nincsenek sem sorvégi karakterek (;), sem függvénykezdő és -záró utasítászárójelek ({}). (Kettőspontok vannak itt-ott, if-nél, függvénydefiniálásnál stb. De arra azt mondjuk, \"nem sor vége\", még ha a sor végén is áll.)\n",
        "\n",
        "Ezeket az egyértelmű jelöléseket a sorok elrendezése, behúzása (indent) helyettesíti. Az indentálás nem opcionális, hanem kötelező, mert ettől függ, mi tartozik bele az if-be vagy ciklusba, és mi van kívül. Zárójel helyett sorkihagyás, üres sor jelzi, hogy vége van egy adott blokknak. Ez elsőre furcsa, és  csúnya hibaforrás, amíg rutinná nem válik, de meg lehet szokni."
      ]
    },
    {
      "cell_type": "markdown",
      "metadata": {
        "id": "U70UJx3jIcmG"
      },
      "source": [
        "# 1 - Python Language (1. videó)\n",
        "\n",
        "Interpretált, értelmező nyelv, a CPython nevű interpretert használjuk. Léteznek más interpreterek vagy akár fordítók is, de arról majd később. \n",
        "\"Dynamically typed\", a fájlokat felülről lefelé értelmezi. Van egy ` __main__()` nevű függvény, ami konvenció szerint a belépési pontja a programoknak."
      ]
    },
    {
      "cell_type": "markdown",
      "metadata": {
        "id": "MqBffer_IjkI"
      },
      "source": [
        "**Indendation** - azaz tabulálás\n",
        "\n",
        "A legtöbb nyelv ; (pontossveszzőt) használ vagy { } (kapcsos zárójelt), hogy utasításokat, logikai egységeket, függyvényeket válasszon el egymástól. Pythonban a tabulálás a szintaktika része, nem opcionális! A pontosvessző helyett legtöbbször új sort, vagy nagyobb logikai egységnél 2 újsort használunk az elválasztáshoz.\n",
        "\n",
        "**C, C++, C#, Javascript**\n",
        "\n",
        "```\n",
        "if (x>y)\n",
        "  {\n",
        "    do something;\n",
        "  }\n",
        "  \n",
        "```\n",
        "**Python**\n",
        "\n",
        "\n",
        "```\n",
        "If x < y :\n",
        "  do something\n",
        "  \n",
        "```\n",
        "4 szóköz vagy tab, üres sorok, és PEP-8 jellemzi a szintaktikát.\n",
        "Ha pl. Nodepad++-ban vagy szimpla text editorban fejlesztünk, akkor nagyon kell rá figyelni. Szerencsére a VS.code és a python extension ezt már észrevétlenül kezeli.\n",
        "\n",
        "\n",
        "\n"
      ]
    },
    {
      "cell_type": "markdown",
      "metadata": {
        "id": "0cfEgvL3JisH"
      },
      "source": [
        "Pythonban minden objektum. A szám típusoktól, a listaszerű tipusokon át, minden."
      ]
    },
    {
      "cell_type": "markdown",
      "metadata": {
        "id": "0NJj-mT700x1"
      },
      "source": [
        "# 2 - Numbers (2., 3., 4. videó) \n",
        "\n",
        "Numbers: int, float, complex - mindegyik egy osztály, és amit létre hozunk objektumot, az annak egy példánya.\n",
        "\n",
        "+, -, /, * -szokásos\n",
        "// -div, % -mod"
      ]
    },
    {
      "cell_type": "code",
      "metadata": {
        "id": "aEfOnD38WqmJ"
      },
      "source": [
        "a = 8\n",
        "b = 3\n",
        "print(8%3)"
      ],
      "execution_count": null,
      "outputs": []
    },
    {
      "cell_type": "markdown",
      "metadata": {
        "id": "E0oIhqY-aF8M"
      },
      "source": [
        "**# Numbers are Immutable**\n",
        "\n",
        "Az \"id\" az egy egyedi belső azonosító, hasonlóan mint egy memóriacím, de nem igazi memóriacím, nem lehet rajta keresztül válotozóra hivatkozni, mintha egy pointer lenne.\n",
        "https://docs.python.org/3.5/library/stdtypes.html#numeric-types-int-float-complex"
      ]
    },
    {
      "cell_type": "markdown",
      "metadata": {
        "id": "7GN3GncGaWy-"
      },
      "source": [
        "Pythonban az Int is egy osztály, így nincs \"egyszerű típus\", az Int nincs a regiszterek méretéhez kötve mint a \"C\" típusú nyelvekben (32, 64bit stb.), csak a memóriánk mérete szab határt, így túlcsordulás sincs.\n",
        "Minden a memóriában foglalódik le (a heapen és nem a stacken) - összehasonlítva C++-al pl. nem egy mutatót hozunk létre és annak tipusának megfelelő helyet foglalunk le, hanem egyből az egész memória terület lesz maga az objektum, típustól függetlenül."
      ]
    },
    {
      "cell_type": "code",
      "metadata": {
        "id": "vimRMHjk059u",
        "colab": {
          "base_uri": "https://localhost:8080/"
        },
        "outputId": "f2d81198-f736-49c4-96dc-8e7d25ffb6ba"
      },
      "source": [
        "# Int\n",
        "number = 12\n",
        "print(f\" Integer: {number}, memory address: {id(number)}\")\n",
        "\n",
        "print(type(number))"
      ],
      "execution_count": null,
      "outputs": [
        {
          "output_type": "stream",
          "text": [
            " Integer: 12, memory address: 94261273234272\n",
            "<class 'int'>\n"
          ],
          "name": "stdout"
        }
      ]
    },
    {
      "cell_type": "code",
      "metadata": {
        "id": "PIu4bL8z1MHb",
        "colab": {
          "base_uri": "https://localhost:8080/"
        },
        "outputId": "f13a9e25-2b70-4e0e-a560-d174dd47987c"
      },
      "source": [
        "# Float\n",
        "number = 16.1\n",
        "print(f\" Float: {number}, memory address: {id(number)}\")\n",
        "\n",
        "print(type(number))"
      ],
      "execution_count": null,
      "outputs": [
        {
          "output_type": "stream",
          "text": [
            " Float: 16.1, memory address: 139956951235472\n",
            "<class 'float'>\n"
          ],
          "name": "stdout"
        }
      ]
    },
    {
      "cell_type": "code",
      "metadata": {
        "id": "Tw0lyn5e1PH5",
        "colab": {
          "base_uri": "https://localhost:8080/"
        },
        "outputId": "a909a981-3faa-4814-8ffd-111a0544a572"
      },
      "source": [
        "# Complex\n",
        "number = 3 + 4j\n",
        "print(f\" Complex: {number}, memory address: {id(number)}\")\n",
        "\n",
        "print(type(number))"
      ],
      "execution_count": null,
      "outputs": [
        {
          "output_type": "stream",
          "text": [
            " Complex: (3+4j), memory address: 139956942381136\n",
            "<class 'complex'>\n"
          ],
          "name": "stdout"
        }
      ]
    },
    {
      "cell_type": "markdown",
      "metadata": {
        "id": "sfmZjR9PbXC0"
      },
      "source": [
        "# 3 - Stringek (5. - 11. videó)\n",
        "\n",
        "https://docs.python.org/3.5/library/stdtypes.html#string-methods"
      ]
    },
    {
      "cell_type": "markdown",
      "metadata": {
        "id": "AOAB90iscDoX"
      },
      "source": [
        "Slicing - \"darabolás?\" A stringeket mint egy tömböt is felfoghatjuk, ez a technika érvényes az (indexelhető) lista-szerű objektumokra is, lásd később.\n",
        "\n",
        "\n",
        "\n",
        "```\n",
        "szoveg = D  a  r  a  b  o  l  á  s  !\n",
        "         0  1  2  3  4  5  6  7  8  9\n",
        "       -10 -9 -8 -7 -6 -5 -4 -3 -2 -1\n",
        "```\n",
        "\n",
        "\n"
      ]
    },
    {
      "cell_type": "code",
      "metadata": {
        "id": "jHH0WRVzqmvc"
      },
      "source": [
        "szoveg = \"Darabolás!\""
      ],
      "execution_count": null,
      "outputs": []
    },
    {
      "cell_type": "code",
      "metadata": {
        "id": "dZLYDQL30OGl"
      },
      "source": [
        "# szöveg[mettől:meddig:lépésköz]\n",
        "# visszafelé -1-től ameddig csak tart, -1-es lépésközzel\n",
        "print(szoveg[-1::-1])"
      ],
      "execution_count": null,
      "outputs": []
    },
    {
      "cell_type": "code",
      "metadata": {
        "id": "ycyCOHWo0CLN"
      },
      "source": [
        "print(szoveg[-1:-4:-1])"
      ],
      "execution_count": null,
      "outputs": []
    },
    {
      "cell_type": "code",
      "metadata": {
        "id": "42PkEiPXz4U6"
      },
      "source": [
        "print(szoveg[1:6:2])"
      ],
      "execution_count": null,
      "outputs": []
    },
    {
      "cell_type": "code",
      "metadata": {
        "id": "DRg4MNeCz0Dp",
        "colab": {
          "base_uri": "https://localhost:8080/",
          "height": 34
        },
        "outputId": "6fb90252-6ee7-4ed1-9681-4476c730cf9a"
      },
      "source": [
        "print(szoveg[1:])"
      ],
      "execution_count": null,
      "outputs": [
        {
          "output_type": "stream",
          "text": [
            "arabolás!\n"
          ],
          "name": "stdout"
        }
      ]
    },
    {
      "cell_type": "code",
      "metadata": {
        "id": "zO9Ctv2BzuLQ"
      },
      "source": [
        "print(szoveg[2:5])"
      ],
      "execution_count": null,
      "outputs": []
    },
    {
      "cell_type": "code",
      "metadata": {
        "id": "WaQa2imfzide",
        "colab": {
          "base_uri": "https://localhost:8080/",
          "height": 34
        },
        "outputId": "89d3dc16-cb70-4933-c5dd-874923687d37"
      },
      "source": [
        "print(szoveg[2])"
      ],
      "execution_count": null,
      "outputs": [
        {
          "output_type": "stream",
          "text": [
            "r\n"
          ],
          "name": "stdout"
        }
      ]
    },
    {
      "cell_type": "code",
      "metadata": {
        "id": "cjhw0h4szqlm"
      },
      "source": [
        "print(szoveg[-8])"
      ],
      "execution_count": null,
      "outputs": []
    },
    {
      "cell_type": "markdown",
      "metadata": {
        "id": "QneMhxgKEJQX"
      },
      "source": [
        "**Népszerű string függvények és példák (11. videó)**"
      ]
    },
    {
      "cell_type": "code",
      "metadata": {
        "id": "qcBprtPoENjQ"
      },
      "source": [
        "szoveg = \"indul a görög aludni\"\n",
        "\n",
        "print(szoveg.replace(\" \", \"\"))\n",
        "\n",
        "print(szoveg[::-1])\n",
        "\n",
        "# A 8. pozíciótól indul, ezt kapjuk vissza eredményként\n",
        "print(szoveg.find(\"görög\"))\n",
        "\n",
        "#2 db ö betű van benne\n",
        "print(szoveg.count(\"ö\"))\n",
        "\n",
        "#nagybetűs\n",
        "print(szoveg.upper())\n",
        "\n",
        "#kisbetűs\n",
        "print(szoveg.lower())\n",
        "\n",
        "#split listába\n",
        "lista = szoveg.split()\n",
        "print(lista)\n"
      ],
      "execution_count": null,
      "outputs": []
    },
    {
      "cell_type": "markdown",
      "metadata": {
        "id": "H-Crgjz_vynX"
      },
      "source": [
        "Ezzel kilistázhatjuk egy objektumon értelmezett összes attributumot vagy függvényt."
      ]
    },
    {
      "cell_type": "code",
      "metadata": {
        "id": "-rsXG-HJG9be"
      },
      "source": [
        "print(dir(int))"
      ],
      "execution_count": null,
      "outputs": []
    },
    {
      "cell_type": "markdown",
      "metadata": {
        "id": "XDJ-5_KCv6ZU"
      },
      "source": [
        "Ha egy specifikus osztályhoz tartozó leírásra vagyunk kíváncsiak, akkor ezt lekérdezhetjük, még google sem kell hozzá :)"
      ]
    },
    {
      "cell_type": "code",
      "metadata": {
        "id": "0XIAqlR_HRxJ",
        "colab": {
          "base_uri": "https://localhost:8080/"
        },
        "outputId": "058de21e-76ab-4f3f-bd94-f5f8b73f128a"
      },
      "source": [
        "print(help(str.count))"
      ],
      "execution_count": null,
      "outputs": [
        {
          "output_type": "stream",
          "text": [
            "Help on method_descriptor:\n",
            "\n",
            "count(...)\n",
            "    S.count(sub[, start[, end]]) -> int\n",
            "    \n",
            "    Return the number of non-overlapping occurrences of substring sub in\n",
            "    string S[start:end].  Optional arguments start and end are\n",
            "    interpreted as in slice notation.\n",
            "\n",
            "None\n"
          ],
          "name": "stdout"
        }
      ]
    },
    {
      "cell_type": "markdown",
      "metadata": {
        "id": "oTZf93vkbcrT"
      },
      "source": [
        "Stringek immutable? (8., 9., 10. videó)"
      ]
    },
    {
      "cell_type": "code",
      "metadata": {
        "id": "c0b5DprgbiuR",
        "colab": {
          "base_uri": "https://localhost:8080/"
        },
        "outputId": "e4e4bbcb-f414-4802-c7c7-6f645f2c1060"
      },
      "source": [
        "szoveg = \"alma\"\n",
        "print(szoveg)\n",
        "print(f\"szoveg id: {id(szoveg)}\")\n",
        "\n",
        "szoveg = \"alma2\"\n",
        "print(szoveg)\n",
        "print(f\"szoveg id: {id(szoveg)}\")"
      ],
      "execution_count": null,
      "outputs": [
        {
          "output_type": "stream",
          "text": [
            "alma\n",
            "szoveg id: 139956941952368\n",
            "alma2\n",
            "szoveg id: 139956941952944\n"
          ],
          "name": "stdout"
        }
      ]
    },
    {
      "cell_type": "markdown",
      "metadata": {
        "id": "X6cXpbBVboP1"
      },
      "source": [
        "A stringek is \"immutable\"-ök azaz, ha megváltoztatom az értékét, akkor egy másik memóriahelyre íródik. Ezzel szemben a lista mutable, azaz megváltoztatható. A gyakorlatban ez annyit tesz, hogy míg a\n",
        "```\n",
        "szoveg = szoveg.replace(\" \", \"\")\n",
        "```\n",
        "-nél figyelni kell arra, hogy a módosítás miatt egy új string objektumot kapunk vissza, ezért azt el kell \"tárolni\", fel kell címkézni egy változóval.\n",
        "\n",
        "A Listánál pedig a módosítás eredménye, nem egy új objektumban, hanem magában, ugyan abban a listában fog érvényesülni:\n",
        "```\n",
        "lista.reverse()\n",
        "```\n",
        "\n",
        "\n"
      ]
    },
    {
      "cell_type": "code",
      "metadata": {
        "id": "t4b6MHuSEIf_",
        "colab": {
          "base_uri": "https://localhost:8080/"
        },
        "outputId": "701e7988-5d72-4a3f-cddd-2ec3a9094ce8"
      },
      "source": [
        "szoveg = \"indul a görög aludni\"\n",
        "szoveg = szoveg.replace(\" \", \"\")\n",
        "mirror = szoveg[::-1]\n",
        "\n",
        "print(szoveg)\n",
        "\n",
        "if szoveg == mirror:\n",
        "    print(\"palindrom\")\n",
        "else:\n",
        "    print(\"nem jó!\")\n",
        "\n",
        "lista = [1, 2, 3, 4, 5]\n",
        "print(lista)\n",
        "\n",
        "lista.reverse()\n",
        "\n",
        "print(lista)"
      ],
      "execution_count": null,
      "outputs": [
        {
          "output_type": "stream",
          "text": [
            "indulagörögaludni\n",
            "palindrom\n",
            "[1, 2, 3, 4, 5]\n",
            "[5, 4, 3, 2, 1]\n"
          ],
          "name": "stdout"
        }
      ]
    },
    {
      "cell_type": "markdown",
      "metadata": {
        "id": "IQTtdX7LKQGz"
      },
      "source": [
        "#4 - Logikai műveletek (12., 13. videó)"
      ]
    },
    {
      "cell_type": "markdown",
      "metadata": {
        "id": "AD3edwB_IH4x"
      },
      "source": [
        "```\n",
        "egyenlő:         ==\n",
        "nem egyenlő:     !=\n",
        "kisebb:          <\n",
        "nagyobb:         >\n",
        "kisebb egyenlő:  <=\n",
        "nagyobb egyenlő: >=\n",
        "\n",
        "Mindig igazzal tér vissza: True\n",
        "Mindig hamissal tér vissza: False\n",
        "\n",
        "Logikai operátorok:\n",
        "\n",
        "ÉS: and\n",
        "VAGY: or\n",
        "Negálás: not\n",
        "\n",
        "print(type(t)) # Prints \"<class 'bool'>\"\n",
        "print(t and f) # Logical AND; prints \"False\"\n",
        "print(t or f)  # Logical OR; prints \"True\"\n",
        "print(not t)   # Logical NOT; prints \"False\"\n",
        "print(t != f)  # Logical XOR; prints \"True\"\n",
        "```\n",
        "\n",
        "if else, elif van. Nincs switch case!\n",
        "\n",
        "Két objektumot a következőképpen hasonlíthatunk össze: a dupla egyenlőségjellel, vagy az \"is\" kifejezéssel.\n",
        "\n",
        "== - érték szerint hasonlítja össze a két objektumot\n",
        "\n",
        "is - azonos ojektumról beszélünk-e, azonos-e az id-je, így nyilván érték szerint azonos lesz.\n",
        "\n"
      ]
    },
    {
      "cell_type": "markdown",
      "metadata": {
        "id": "l0CtxRToKI-d"
      },
      "source": [
        ""
      ]
    },
    {
      "cell_type": "code",
      "metadata": {
        "id": "23G0mMYkJTbA",
        "colab": {
          "base_uri": "https://localhost:8080/"
        },
        "outputId": "a0ecea7e-494a-48dd-d54a-03c4b5d53e05"
      },
      "source": [
        "print(type(True))"
      ],
      "execution_count": null,
      "outputs": [
        {
          "output_type": "stream",
          "text": [
            "<class 'bool'>\n"
          ],
          "name": "stdout"
        }
      ]
    },
    {
      "cell_type": "code",
      "metadata": {
        "id": "m88JKt-cJm98"
      },
      "source": [
        "szoveg = \"Hello2\"\n",
        "masikszoveg = \"Hello2\"\n"
      ],
      "execution_count": null,
      "outputs": []
    },
    {
      "cell_type": "code",
      "metadata": {
        "id": "oWI4RA_fhN5A",
        "colab": {
          "base_uri": "https://localhost:8080/"
        },
        "outputId": "e181360f-8658-4e10-c4ff-44a0b7af9b6a"
      },
      "source": [
        "print(szoveg==masikszoveg)"
      ],
      "execution_count": null,
      "outputs": [
        {
          "output_type": "stream",
          "text": [
            "True\n"
          ],
          "name": "stdout"
        }
      ]
    },
    {
      "cell_type": "code",
      "metadata": {
        "id": "rxYfcLPIjYQ_",
        "colab": {
          "base_uri": "https://localhost:8080/"
        },
        "outputId": "db777007-b96c-4ee7-fd7d-94365c04beaa"
      },
      "source": [
        "print(szoveg is masikszoveg)"
      ],
      "execution_count": null,
      "outputs": [
        {
          "output_type": "stream",
          "text": [
            "True\n"
          ],
          "name": "stdout"
        }
      ]
    },
    {
      "cell_type": "code",
      "metadata": {
        "id": "W_CzFTcYj5C4",
        "colab": {
          "base_uri": "https://localhost:8080/"
        },
        "outputId": "08c5c875-bb72-4174-d480-f71ae383a5f2"
      },
      "source": [
        "print(id(szoveg))\n",
        "print(id(masikszoveg))"
      ],
      "execution_count": null,
      "outputs": [
        {
          "output_type": "stream",
          "text": [
            "139956942341232\n",
            "139956942341232\n"
          ],
          "name": "stdout"
        }
      ]
    },
    {
      "cell_type": "markdown",
      "metadata": {
        "id": "PnVo_E8XMSL1"
      },
      "source": [
        "**if és If else**"
      ]
    },
    {
      "cell_type": "code",
      "metadata": {
        "id": "ZSJrjInekL8j",
        "cellView": "both"
      },
      "source": [
        "\n",
        "elem = 1\n",
        "\n",
        "if elem == 1:\n",
        "    print(\"valami\")"
      ],
      "execution_count": null,
      "outputs": []
    },
    {
      "cell_type": "code",
      "metadata": {
        "id": "5MkgIXEfkPH0",
        "cellView": "both"
      },
      "source": [
        "\n",
        "elem = 1\n",
        "\n",
        "if elem == 1:\n",
        "    print(\"1\")\n",
        "else:\n",
        "    print(\"Nem talált!\")"
      ],
      "execution_count": null,
      "outputs": []
    },
    {
      "cell_type": "markdown",
      "metadata": {
        "id": "gRhCUGn1Q5AH"
      },
      "source": [
        "**Inline, vagy \"egy soros\" IF**"
      ]
    },
    {
      "cell_type": "code",
      "metadata": {
        "id": "KUwae710QkdX",
        "colab": {
          "base_uri": "https://localhost:8080/",
          "height": 34
        },
        "outputId": "0773b85d-171a-4378-bdba-22f74baa3d53"
      },
      "source": [
        "elem = 2\n",
        "\n",
        "# alapból azt mondom, hogy az üzenet legyen = \"1\" ha a feltétel igaz akkor nem változik meg, ha a feltétel hamis akkor legyen \"Nem talált\" az értéke.\n",
        "uzenet = \"1\" if elem == 1 else \"Nem talált!\"\n",
        "print(uzenet)"
      ],
      "execution_count": null,
      "outputs": [
        {
          "output_type": "stream",
          "text": [
            "Nem talált!\n"
          ],
          "name": "stdout"
        }
      ]
    },
    {
      "cell_type": "markdown",
      "metadata": {
        "id": "9DkVyRvpkXpR"
      },
      "source": [
        "Pythonban nincs switch case, de az élet nem áll meg: \"Switch case\" helyett \"elif\"."
      ]
    },
    {
      "cell_type": "code",
      "metadata": {
        "id": "QO7CRzsmkcaT"
      },
      "source": [
        "elem = 3\n",
        "\n",
        "if elem == 1:\n",
        "    print(\"1\")\n",
        "elif elem == 2:\n",
        "    print(\"2\")\n",
        "elif elem == 3:\n",
        "    print(\"3\")\n",
        "else:\n",
        "    print(\"Nem talált!\")"
      ],
      "execution_count": null,
      "outputs": []
    },
    {
      "cell_type": "markdown",
      "metadata": {
        "id": "JA8I4ctaFP7H"
      },
      "source": [
        "# 5 - Ciklusok - for, while (17. videó)"
      ]
    },
    {
      "cell_type": "code",
      "metadata": {
        "id": "rFTyn_qQFPcC",
        "colab": {
          "base_uri": "https://localhost:8080/",
          "height": 51
        },
        "outputId": "bd489ae0-5e4b-4001-b489-1e641ad02fb3"
      },
      "source": [
        "for x in range(2):\n",
        "  print(x)"
      ],
      "execution_count": null,
      "outputs": [
        {
          "output_type": "stream",
          "text": [
            "0\n",
            "1\n"
          ],
          "name": "stdout"
        }
      ]
    },
    {
      "cell_type": "code",
      "metadata": {
        "id": "bkWBlBpiGMaU"
      },
      "source": [
        "for x in range(1, 20, 2):\n",
        "  print(x)\n",
        "\n"
      ],
      "execution_count": null,
      "outputs": []
    },
    {
      "cell_type": "code",
      "metadata": {
        "id": "C00ZCmJKFyam",
        "colab": {
          "base_uri": "https://localhost:8080/",
          "height": 68
        },
        "outputId": "7cf3b987-c619-4f5f-ebd6-84ce199cd7c1"
      },
      "source": [
        "lista = [\"alma\", \"körte\", \"barack\"]\n",
        "\n",
        "for _ in lista:\n",
        "  print(_)"
      ],
      "execution_count": null,
      "outputs": [
        {
          "output_type": "stream",
          "text": [
            "alma\n",
            "körte\n",
            "barack\n"
          ],
          "name": "stdout"
        }
      ]
    },
    {
      "cell_type": "code",
      "metadata": {
        "id": "s8jXRogqHTUl"
      },
      "source": [
        "for x in range(10):\n",
        "  print(x)\n",
        "  if x == 11:\n",
        "    break\n",
        "else:\n",
        "  print(\"Ha a végéig futott a ciklus, akkor ez az ág lefut\")"
      ],
      "execution_count": null,
      "outputs": []
    },
    {
      "cell_type": "code",
      "metadata": {
        "id": "8t-UWXm6gJMw"
      },
      "source": [
        "x = 0\n",
        "while x < 10:\n",
        "  print(x)\n",
        "  x += 1"
      ],
      "execution_count": null,
      "outputs": []
    },
    {
      "cell_type": "code",
      "metadata": {
        "id": "68Gjgod2Ikqg",
        "colab": {
          "base_uri": "https://localhost:8080/",
          "height": 51
        },
        "outputId": "94e71282-c8c3-4c0d-f51a-b84238ee9535"
      },
      "source": [
        "import random\n",
        "\n",
        "#7 db (mert range(1,8) az 7) véletlen szám generálása, 5 és 11 közötti egész értékekkel, a 11 már nem tartozik bele.\n",
        "lista_szamok = [random.randrange(5, 11) for x in range(1, 8)]\n",
        "print(lista_szamok)\n",
        "\n",
        "#nincs ismétlés\n",
        "lista_nincs_ismetles = random.sample(range(10), 10)\n",
        "print(lista_nincs_ismetles)"
      ],
      "execution_count": null,
      "outputs": [
        {
          "output_type": "stream",
          "text": [
            "[6, 8, 10, 7, 7, 5, 10]\n",
            "[2, 8, 7, 0, 9, 4, 1, 5, 3, 6]\n"
          ],
          "name": "stdout"
        }
      ]
    },
    {
      "cell_type": "code",
      "metadata": {
        "id": "Rreok1ZQWvCd",
        "colab": {
          "base_uri": "https://localhost:8080/",
          "height": 34
        },
        "outputId": "d97352dc-6192-4d65-a809-1f3dc671e597"
      },
      "source": [
        "a, b, c, d = 8, 3, \"Hello\", [1, 2, 4, 5]\n",
        "\n",
        "print(type(c))"
      ],
      "execution_count": null,
      "outputs": [
        {
          "output_type": "stream",
          "text": [
            "<class 'str'>\n"
          ],
          "name": "stdout"
        }
      ]
    },
    {
      "cell_type": "code",
      "metadata": {
        "id": "wlklzPxgaENZ"
      },
      "source": [
        "szam = pow(2, 128)\n",
        "print(szam)"
      ],
      "execution_count": null,
      "outputs": []
    },
    {
      "cell_type": "markdown",
      "metadata": {
        "id": "br3V9r_foR-B"
      },
      "source": [
        "# 6 - Összetett típusok (List, Tuple, Dict, Set) (14. - 16., 18. - 23. videó)\n",
        "\n"
      ]
    },
    {
      "cell_type": "markdown",
      "metadata": {
        "id": "mqGo6esKPJaE"
      },
      "source": [
        "https://docs.python.org/3/tutorial/datastructures.html\n",
        "\n",
        "**List []** - Tömbszerű láncolt lista\n",
        "\n",
        "**Tuple ()** - immutable List, ugyan az mint a List, csak nem lehet megváltoztatni az értékét\n",
        "\n",
        "**Dict {}** - key, value pair, hasonlóan mint más nyelvekben\n",
        "\n",
        "**Set** {} - \"unordered collection of unique element\", azaz mint a matematikai set, minden elem csak egyszer szerepelhet, a sorrend nem számít, azaz nincs sorrend."
      ]
    },
    {
      "cell_type": "markdown",
      "metadata": {
        "id": "FegnGL7_Cd_w"
      },
      "source": [
        "\n",
        "\n",
        "**LIST**\n",
        "\n",
        "A legjobb jellemzése: Tömbszerű láncolt lista. Az implementációja láncolt lista (saját magának foglal memóriát), de lehet rá pozícióra is hivatkozni :) Mindeféle típust tartalmazhat. (pl. egyszerűt, öszetettet - akár listában listát is, fügvényt, modult, osztályokat)\n",
        "https://docs.python.org/3.5/tutorial/datastructures.html#more-on-lists\n",
        "A \"slicing\" technika itt is működik.\n"
      ]
    },
    {
      "cell_type": "code",
      "metadata": {
        "id": "q0N5VCJ4GWCP"
      },
      "source": [
        "lista = [1, 2, 3, 4, 5]\n",
        "print(id(lista))\n"
      ],
      "execution_count": null,
      "outputs": []
    },
    {
      "cell_type": "code",
      "metadata": {
        "id": "a8HBLt4RGjgm"
      },
      "source": [
        "print(lista[::-1])"
      ],
      "execution_count": null,
      "outputs": []
    },
    {
      "cell_type": "code",
      "metadata": {
        "id": "z8luPmhtGcZp"
      },
      "source": [
        "print(lista[3])"
      ],
      "execution_count": null,
      "outputs": []
    },
    {
      "cell_type": "code",
      "metadata": {
        "id": "7JrTo9WhHTzA"
      },
      "source": [
        "lista[3]=22"
      ],
      "execution_count": null,
      "outputs": []
    },
    {
      "cell_type": "code",
      "metadata": {
        "id": "RRLEKy9dHW2v"
      },
      "source": [
        "print(id(lista))"
      ],
      "execution_count": null,
      "outputs": []
    },
    {
      "cell_type": "code",
      "metadata": {
        "id": "gjf1ODO6b8b8"
      },
      "source": [
        "lista = [10, 20, 30, 40, 50, 60, 70, 80, 90, 100]"
      ],
      "execution_count": null,
      "outputs": []
    },
    {
      "cell_type": "code",
      "metadata": {
        "id": "dyBp9SnkKA2F"
      },
      "source": [
        "# az alábbi sort engedve, leméri a végrehajtási idejét ennek a blokknak\n",
        "# %%timeit\n",
        "\n",
        "uj_lista = []\n",
        "\n",
        "for elem in lista:\n",
        "  if elem > 30:\n",
        "    uj_lista.append(elem)\n",
        "\n",
        "    \n",
        "print(uj_lista)"
      ],
      "execution_count": null,
      "outputs": []
    },
    {
      "cell_type": "markdown",
      "metadata": {
        "id": "NJLUDrATKr2e"
      },
      "source": [
        "List comprehension, a python LINQ-ja, vagy SQL szerű lekérdezése. gyorsabb lehet mint a \"hagyományos\""
      ]
    },
    {
      "cell_type": "code",
      "metadata": {
        "id": "uAzvxydQKU-a"
      },
      "source": [
        "# az alábbi sort engedve, leméri a végrehajtási idejét ennek a blokknak\n",
        "# %%timeit\n",
        "\n",
        "l = [\n",
        "     elem #select\n",
        "    for elem in lista #from\n",
        "    if elem>30 #feltétel\n",
        "]\n",
        "\n",
        "l = [elem for elem in lista if elem>30]\n",
        "\n",
        "\n",
        "createanewlist = [elem for elem in lista if elem>30]\n",
        "\n",
        "print(l)"
      ],
      "execution_count": null,
      "outputs": []
    },
    {
      "cell_type": "markdown",
      "metadata": {
        "id": "jg0RRSuHH6Qt"
      },
      "source": [
        "**Mutable vs Immutable**\n",
        "\n",
        "*A lista 3. eleme megváltozott a Lista id-je nem változott, mert tényleg ugyan azt az objektumot módosítottuk, nem úgy mint pl. a szám típusoknál, ahol minden egyes értékadásnál új id-t kapunk. A Mutable az mutálható :) azaz megváltoztatható, az immutable pedig nem. Vagy másképp: módosítható, de minden egyes alkalommal egy új memóriacímre létrehoz egy másik objektumot. Ez néha költséges, néha szükséges, néha jó, ezek nyelvi sajátosságok.* Van egy olyan irány, hogy csak immutable objektumokkal dolgozzunk, mert az sok mindent leegyszerűsít, legalábbis a párhuzamos szálak kezelését biztosan. Vannak persze helyzetek, amikor nagyon költséges lenne minden egyes alkalommal egy új objektumot lértrehozni, gondoljunk csak egy játék karakterére, ahol másodpercenként akár 120-szor is megváltoztatjuk az egyik attributumát.\n",
        "Mint más nyelvekben is, a saját típusoknál (osztályoknál) mi kontrolálhatjuk, hogy az módosítható legyen pl. csak \"getter\"-t állítunk be egy attribútumra, de settert már nem.\n",
        "\n",
        "https://medium.com/@meghamohan/mutable-and-immutable-side-of-python-c2145cf72747\n",
        "\n",
        "https://softwareengineering.stackexchange.com/questions/151733/if-immutable-objects-are-good-why-do-people-keep-creating-mutable-objects\n"
      ]
    },
    {
      "cell_type": "code",
      "metadata": {
        "id": "fFe1LofBI1N8",
        "colab": {
          "base_uri": "https://localhost:8080/",
          "height": 34
        },
        "outputId": "1cd70735-4313-4228-fd90-d11e1ef09807"
      },
      "source": [
        "lista = [10, 20, 30, 40, 50, 60, 70, 80, 90, 100]\n",
        "print(lista) "
      ],
      "execution_count": null,
      "outputs": [
        {
          "output_type": "stream",
          "text": [
            "[10, 20, 30, 40, 50, 60, 70, 80, 90, 100]\n"
          ],
          "name": "stdout"
        }
      ]
    },
    {
      "cell_type": "code",
      "metadata": {
        "id": "IwQrRUABLp5o"
      },
      "source": [
        "     \n",
        "lista.append('szoveg')  # hozzáad egy elemet, ami bármilyen típus lehet\n",
        "print(lista)      \n"
      ],
      "execution_count": null,
      "outputs": []
    },
    {
      "cell_type": "code",
      "metadata": {
        "id": "hgRmCqwHcC3f"
      },
      "source": [
        "utolso_elem = lista.pop()  # visszaadja és kiveszi a lista utolsó elemét (mint ha verem lenne)\n",
        "# pop(index) - nem csak az utolsó elemet lehet kihalászni, akkor az már nyilván nem verem szerú...\n",
        "print(utolso_elem) # kírja az utolsó elem tartalmát, ami ugye a \"szöveg\"\n",
        "print(lista)       # lista-t kiírja, immáron \"szöveg\" nélkül"
      ],
      "execution_count": null,
      "outputs": []
    },
    {
      "cell_type": "markdown",
      "metadata": {
        "id": "pahzzXrFNn_c"
      },
      "source": [
        "Ha az indexet is ki szeretnénk íratni, használjuk a beépített enumerate függvényt. Figyeljük meg, hogy ez 2 értékkel tér vissza, az indexel és magával az elemmel. A \"for\" után ezért két változó nevet adunk meg. (ez egyébként az unpacking)"
      ]
    },
    {
      "cell_type": "code",
      "metadata": {
        "id": "490vqLrWNIHT",
        "colab": {
          "base_uri": "https://localhost:8080/",
          "height": 188
        },
        "outputId": "d5f85023-9f52-48da-95a5-4618b080e022"
      },
      "source": [
        "for index, elem in enumerate(lista):\n",
        "  print(f\"{index} {elem}\")"
      ],
      "execution_count": null,
      "outputs": [
        {
          "output_type": "stream",
          "text": [
            "0 10\n",
            "1 20\n",
            "2 30\n",
            "3 40\n",
            "4 50\n",
            "5 60\n",
            "6 70\n",
            "7 80\n",
            "8 90\n",
            "9 100\n"
          ],
          "name": "stdout"
        }
      ]
    },
    {
      "cell_type": "markdown",
      "metadata": {
        "id": "1sTNicc--0j2"
      },
      "source": [
        "https://docs.python.org/3/tutorial/datastructures.html\n",
        "\n",
        "**List []** - Tömbszerű láncolt lista\n",
        "\n",
        "**Tuple ()** - immutable list\n",
        "\n",
        "**Dict {}** - key, value pair, hasonlóan mint más nyelvekben\n",
        "\n",
        "**Set** {} - \"unordered collection of unique element\", azaz mint a matematikai set, minden elem csak egyszer szerepelhet, a sorrend nem számít\n",
        "\n",
        "\n"
      ]
    },
    {
      "cell_type": "code",
      "metadata": {
        "id": "CovJtvc8y0Ms"
      },
      "source": [
        "tuple_pelda = (1, 2, 3)\n",
        "list_pelda = [1, 2, 3]\n",
        "dict_pelda = {\"a\" : 1, \"b\" : 2, \"c\" : 3}\n",
        "set_pelda = {1, 2, 3} \n",
        "ures_set = set()"
      ],
      "execution_count": null,
      "outputs": []
    },
    {
      "cell_type": "markdown",
      "metadata": {
        "id": "QaklUUmqCX81"
      },
      "source": [
        "Tuple unpacking"
      ]
    },
    {
      "cell_type": "code",
      "metadata": {
        "id": "P_FVhxPNrqlk"
      },
      "source": [
        "# list\n",
        "nevek = [\"Peter\", \"Andrea\", \"David\", \"Marcell\"]"
      ],
      "execution_count": null,
      "outputs": []
    },
    {
      "cell_type": "code",
      "metadata": {
        "id": "2nIJmQior42F"
      },
      "source": [
        "# tuple\n",
        "nevek = (\"Peter\", \"Andrea\", \"David\", \"Marcell\")"
      ],
      "execution_count": null,
      "outputs": []
    },
    {
      "cell_type": "code",
      "metadata": {
        "id": "NATW75nQCh02"
      },
      "source": [
        "# ?tuple\n",
        "nevek = \"Peter\", \"Andrea\", \"David\", \"Bálint\""
      ],
      "execution_count": null,
      "outputs": []
    },
    {
      "cell_type": "code",
      "metadata": {
        "id": "beYLnXm4jPnn"
      },
      "source": [
        "print(type(nevek))\n",
        "print(nevek)"
      ],
      "execution_count": null,
      "outputs": []
    },
    {
      "cell_type": "markdown",
      "metadata": {
        "id": "dKkt2bdWkY5_"
      },
      "source": [
        "Fentebb már láttuk, ezt a fajta értékadást, amikor a bal oldalon is több változó van, ezt hívják unpacking-nek is."
      ]
    },
    {
      "cell_type": "code",
      "metadata": {
        "id": "F4jlLuYpj8I1"
      },
      "source": [
        "nev1, nev2, nev3, nev4 =  nevek\n",
        "print(nev1, nev2, nev3, nev4)\n",
        "print(nev1)"
      ],
      "execution_count": null,
      "outputs": []
    },
    {
      "cell_type": "code",
      "metadata": {
        "id": "DBTG3Yfelrvm",
        "colab": {
          "base_uri": "https://localhost:8080/"
        },
        "outputId": "c4e790c7-a359-44a0-a4d1-c9fe1a1384b3"
      },
      "source": [
        "#compare tuples\n",
        "\n",
        "nevek = \"Peter\", \"Andrea\",[\"körte\", \"alma\"], \"David\", \"Marcell\"\n",
        "nevek2 = \"Peter\", \"Andrea\",[\"körte\", \"alma\"], \"David\", \"Marcell\"\n",
        "\n",
        "print(type(nevek2))\n",
        "print(type(nevek))\n",
        "\n",
        "if nevek==nevek2:\n",
        "  print(\"egyforma\")"
      ],
      "execution_count": null,
      "outputs": [
        {
          "output_type": "stream",
          "text": [
            "<class 'tuple'>\n",
            "<class 'tuple'>\n",
            "egyforma\n"
          ],
          "name": "stdout"
        }
      ]
    },
    {
      "cell_type": "code",
      "metadata": {
        "id": "TrQIfEsvW4oU",
        "colab": {
          "base_uri": "https://localhost:8080/"
        },
        "outputId": "1e5bacbc-b113-429b-cc0e-22555dc70776"
      },
      "source": [
        "egyelemu = (1,)\n",
        "\n",
        "print(egyelemu)\n",
        "print(type(egyelemu))"
      ],
      "execution_count": null,
      "outputs": [
        {
          "output_type": "stream",
          "text": [
            "(1,)\n",
            "<class 'tuple'>\n"
          ],
          "name": "stdout"
        }
      ]
    },
    {
      "cell_type": "code",
      "metadata": {
        "id": "YUH--AflPPw3",
        "colab": {
          "base_uri": "https://localhost:8080/"
        },
        "outputId": "6e75a306-9987-4952-f39b-6d8d175d8f0e"
      },
      "source": [
        "#tuple, vagy két lista összehasonlítása, for ciklussal \"hagyományosan\"\n",
        "\n",
        "egyforma = True\n",
        "\n",
        "if len(nevek) != len(nevek2):\n",
        "  egyforma = False\n",
        "else:\n",
        "  for i in range(len(nevek)):\n",
        "    if nevek[i] != nevek2[i]:\n",
        "        egyforma = False\n",
        "        break\n",
        "    \n",
        "print(egyforma)"
      ],
      "execution_count": null,
      "outputs": [
        {
          "output_type": "stream",
          "text": [
            "True\n"
          ],
          "name": "stdout"
        }
      ]
    },
    {
      "cell_type": "markdown",
      "metadata": {
        "id": "7t55IF5lX1_f"
      },
      "source": [
        "**Zip** és összetett típusok praktikus értékadása"
      ]
    },
    {
      "cell_type": "code",
      "metadata": {
        "id": "7bmyUHB5X_7C"
      },
      "source": [
        "# a zippel, két listát tudunk összeilleszteni, ha a méret nem stimmel, nem baj, azokat kihagyja...\n",
        "szamok = \"1 2 3 4 5 6 7 8 9 0\".split()\n",
        "szam_nevek = \"egy kettő három négy öt hat hét nyolc kilenc\".split()\n",
        "\n",
        "print(szamok)\n",
        "result = zip(szamok, szam_nevek)\n",
        "print(dict(result))"
      ],
      "execution_count": null,
      "outputs": []
    },
    {
      "cell_type": "code",
      "metadata": {
        "id": "GlRkgPPyQrHk"
      },
      "source": [
        "#zip összemergel, két listát, tuple-t... méret különbözet nem számít\n",
        "\n",
        "egyforma = True\n",
        "\n",
        "for nevek, nevek2 in zip(nevek, nevek2):\n",
        "    if nevek != nevek2:\n",
        "        egyforma = False\n",
        "        break\n",
        "\n",
        "print(egyforma)\n"
      ],
      "execution_count": null,
      "outputs": []
    },
    {
      "cell_type": "markdown",
      "metadata": {
        "id": "FLpXH-rcOoaO"
      },
      "source": [
        "# 7 - Függvények - létrehozása, scope, számológép (24 - 34. videó)"
      ]
    },
    {
      "cell_type": "code",
      "metadata": {
        "id": "uf4H7uGhOvRx"
      },
      "source": [
        "def fuggveny():\n",
        "  pass"
      ],
      "execution_count": null,
      "outputs": []
    },
    {
      "cell_type": "code",
      "metadata": {
        "id": "1LrsPKU1O5vW"
      },
      "source": [
        "def fuggveny(nev):\n",
        "  print(f\"Hello {nev}!\")\n",
        "\n",
        "fuggveny(\"Peter\")"
      ],
      "execution_count": null,
      "outputs": []
    },
    {
      "cell_type": "code",
      "metadata": {
        "id": "wSf9OUjHdgWQ"
      },
      "source": [
        "# pozíció és névszerinti paramétermegadás\n",
        "def fuggveny(nev, becenev=\"Nincs\"):\n",
        "  if becenev==\"Nincs\":\n",
        "    print(f\"Hello {nev}!\")\n",
        "  else:\n",
        "    print(f\"Hello {becenev}!\")\n",
        "\n",
        "fuggveny(\"Peter\", \"Nincs\")"
      ],
      "execution_count": null,
      "outputs": []
    },
    {
      "cell_type": "code",
      "metadata": {
        "id": "bHGS4aEVkEVM"
      },
      "source": [
        "from enum import Enum\n",
        "\n",
        "class Muvelet(Enum):\n",
        "    Összeadás = 1\n",
        "    Szorzás = 4\n",
        "\n",
        "def szorzas(szamok):\n",
        "    result=1\n",
        "    print(type(szamok))\n",
        "    for _ in szamok:\n",
        "        result *= _\n",
        "    return result\n",
        "\n",
        "def szamologep(*args, muvelet=Muvelet.Összeadás):\n",
        "    if muvelet==Muvelet.Összeadás:\n",
        "        print(sum(args))\n",
        "    elif muvelet==Muvelet.Szorzás:\n",
        "        print(szorzas(args))\n",
        "    \n",
        "\n",
        "szamologep(2, 3, 5, 10, 210, muvelet=Muvelet.Szorzás)"
      ],
      "execution_count": null,
      "outputs": []
    },
    {
      "cell_type": "code",
      "metadata": {
        "id": "ynTzGUhc8Stw"
      },
      "source": [
        "def adatok(**kwargs):\n",
        "    print(kwargs)\n",
        "\n",
        "adatok(nev = \"Peter\", kedvenc_turborago_automarkaja= \"Tesla\", eletkor = 12)"
      ],
      "execution_count": null,
      "outputs": []
    },
    {
      "cell_type": "code",
      "metadata": {
        "id": "DvFtfc1G2kqM"
      },
      "source": [
        "def adatok(*args, **kwargs):\n",
        "    for key, value in kwargs.items():\n",
        "        print(key, value)\n",
        "    print(kwargs)\n",
        "\n",
        "\n",
        "adatok(nev = \"Peter\", kedvenc_turborago_automarkaja= \"Tesla\", eletkor = 12)"
      ],
      "execution_count": null,
      "outputs": []
    },
    {
      "cell_type": "code",
      "metadata": {
        "id": "J09XqUKcC24f"
      },
      "source": [
        "\n",
        "x = \"global változó\"\n",
        "\n",
        "def parameter_scope():\n",
        "    global x\n",
        "    x = \"belső valtozó\"\n",
        "    print(x)\n",
        "\n",
        "parameter_scope()\n",
        "print(x)\n",
        "\n",
        "print(sum((1, 2, 3, 4, 5)))\n",
        "\n",
        "def sum():\n",
        "    pass\n",
        "\n",
        "kosar = [\"alma\", \"körte\", \"dinnye\"]\n",
        "sztring = \"ami ugye immutable\"\n",
        "\n",
        "def telikosar(sztring):\n",
        "    sztring=\"uborka\"\n",
        "    print(sztring)\n",
        "\n",
        "telikosar(sztring)\n",
        "print(sztring)"
      ],
      "execution_count": null,
      "outputs": []
    },
    {
      "cell_type": "markdown",
      "metadata": {
        "id": "sc8k1IfRxX8Q"
      },
      "source": [
        "# 8. if __ name __ == \"__ main __\":"
      ]
    },
    {
      "cell_type": "code",
      "metadata": {
        "id": "8fnnpXSoPCwE"
      },
      "source": [
        "from enum import Enum\n",
        "\n",
        "\n",
        "class Muvelet(Enum):\n",
        "    Összeadás = 1\n",
        "    Szorzás = 2\n",
        "\n",
        "\n",
        "def szorzas(szamok):\n",
        "    result = 1\n",
        "    for _ in szamok:\n",
        "        result *= _\n",
        "    return result\n",
        "\n",
        "\n",
        "def szamologep(*args, **kwargs):\n",
        "    print(kwargs)\n",
        "    if kwargs[\"muvelet\"] == Muvelet.Összeadás:\n",
        "        print(sum(args))\n",
        "    if kwargs[\"muvelet\"] == Muvelet.Szorzás:\n",
        "        print(szorzas(args))\n",
        "\n",
        "\n",
        "def adatok(**kwargs):\n",
        "    print(kwargs)\n",
        "\n",
        "\n",
        "x = \"globális változó\"\n",
        "\n",
        "\n",
        "def parameter_scope():\n",
        "    x = \"belső változó\"\n",
        "    print(x)\n",
        "\n",
        "    def belso():\n",
        "        x = \"legbelsőbb\"\n",
        "        print(x)\n",
        "\n",
        "    belso()\n",
        "\n",
        "\n",
        "if __name__ == \"__main__\":\n",
        "\n",
        "    parameter_scope()\n",
        "    print(x)\n",
        "    print(sum((1, 2, 3, 4, 5)))\n",
        "\n",
        "    adatok(nev=\"Peter\", kedvenc_turborago_automarkaja=\"Tesla\", eletkor=12)\n",
        "    szamologep(2, 3, 8, 9, muvelet=Muvelet.Szorzás)"
      ],
      "execution_count": null,
      "outputs": []
    },
    {
      "cell_type": "markdown",
      "metadata": {
        "id": "PPmmgAZG5xVX"
      },
      "source": [
        "# 9. import module"
      ]
    },
    {
      "cell_type": "code",
      "metadata": {
        "id": "33ZfSAVg54qP"
      },
      "source": [
        "from szamologepmodul import szamologep, Muvelet\n",
        "import sys\n",
        "\n",
        "szamologep(2, 3, 8, 9, muvelet=Muvelet.Szorzás)\n",
        "print(sys.path)"
      ],
      "execution_count": null,
      "outputs": []
    },
    {
      "cell_type": "markdown",
      "metadata": {
        "id": "qljgoIS157vd"
      },
      "source": [
        "Modul importálására az \"import modulnev\"\n",
        "Ami többnyire egy másik python file "
      ]
    }
  ]
}